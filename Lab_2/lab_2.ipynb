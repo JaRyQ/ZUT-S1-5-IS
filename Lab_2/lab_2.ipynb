{
 "cells": [
  {
   "cell_type": "code",
   "execution_count": 82,
   "metadata": {},
   "outputs": [],
   "source": [
    "import numpy as np\n",
    "from time import time\n",
    "from collections import deque\n",
    "from copy import deepcopy as dcopy\n",
    "from collections import Counter\n",
    "import matplotlib.pyplot as plt\n",
    "import pandas as pd\n",
    "from queue import PriorityQueue as PQ, LifoQueue as LIFOQ\n",
    "%matplotlib inline"
   ]
  },
  {
   "cell_type": "code",
   "execution_count": null,
   "metadata": {},
   "outputs": [],
   "source": [
    "\"\"\"\n",
    "TODO LISTA:\n",
    "\n",
    "DODAWANIE KLUMN DO DF\n",
    "WYSWIETLANIE / ZAPISYWANIE WYKRESÓW\n",
    "KOMPARATOR DLA KLASY CHESSBOARD\n",
    "DODAC LIFOQ dla DFS\n",
    "DALSZE DEBUGOWANIE\n",
    "\n",
    "\"\"\""
   ]
  },
  {
   "cell_type": "code",
   "execution_count": 2,
   "metadata": {},
   "outputs": [],
   "source": [
    "class Chessboard:\n",
    "    def __init__(self,n = 4, board_state = None, queens_positioned =0): # inicjalizacja\n",
    "        self.size=n\n",
    "        self.board = np.zeros((self.size),dtype=np.int) if board_state is None else board_state\n",
    "        self.queens_counter = queens_positioned\n",
    "    def __lt__(self, other):\n",
    "        \n",
    "    def position(self,row,column): # ustawienie królowej na szachownicy\n",
    "        self.board[row] = column\n",
    "        \n",
    "    def print_board(self,print_full_board=True): # wyświetlenie szachownicy\n",
    "        if print_full_board:\n",
    "            full_chessboard = np.zeros((self.size,self.size),dtype=np.int)\n",
    "            for position, queen_position in zip(range(0,self.size),self.board) :\n",
    "                full_chessboard [queen_position][position] = 1\n",
    "            print( full_chessboard, end='\\n\\n')\n",
    "            \n",
    "    def get_positions(self):\n",
    "        return  self.board[:] , self.queens_counter\n",
    "    \n",
    "    def default_position(self,queens_array,positioned):\n",
    "        self.queens_counter = positioned\n",
    "        self.board[:]  = queens_array[:]\n",
    "        \n",
    "    def add_queen_counter(self):\n",
    "        self.queens_counter +=1\n",
    "        \n",
    "    def get_queen_counter(self):\n",
    "        return self.queens_counter\n",
    "    \n",
    "    def set_queens_counter(self,n_queens):\n",
    "        self.queens_counter = n_queens"
   ]
  },
  {
   "cell_type": "code",
   "execution_count": 3,
   "metadata": {},
   "outputs": [],
   "source": [
    "def print_queens_positions(chessboard: Chessboard):\n",
    "    \"\"\"\n",
    "    wyświetl pozycje hetmanów na szachownicy w czytelny dla człowieka sposób\n",
    "    \"\"\"\n",
    "    print(\" queens positions: {0}\".format(chessboard.get_positions()+1)) # +1 dla czytelności "
   ]
  },
  {
   "cell_type": "code",
   "execution_count": 4,
   "metadata": {},
   "outputs": [],
   "source": [
    "def print_stats(n_queens,generate_counter, state_check_counter,correct_counter,timer):\n",
    "    \"\"\"\n",
    "    wyświetl statystyki jednej iteracji eksperymentu\n",
    "    \"\"\"\n",
    "    print(\"N_queens: {0}\".format(n_queens))\n",
    "    print(\"Number of correct states: {0}\".format(correct_counter))\n",
    "    print(\"Number of generated states: {0}\".format(generate_counter))\n",
    "    print(\"Number of checked states: {0}\".format(state_check_counter))\n",
    "    print(\"Time spent: {0}\".format(timer), end='\\n\\n')"
   ]
  },
  {
   "cell_type": "code",
   "execution_count": 5,
   "metadata": {},
   "outputs": [],
   "source": [
    "def build_matrix(board_state,n, queens_palced):\n",
    "    matrix = np.zeros((n,n),dtype=int)\n",
    "    for i,y in enumerate(board_state[:queens_palced]):\n",
    "        matrix[y][i] =1\n",
    "    return matrix\n",
    "    "
   ]
  },
  {
   "cell_type": "code",
   "execution_count": 6,
   "metadata": {},
   "outputs": [
    {
     "data": {
      "text/plain": [
       "array([[1, 0, 0, 0],\n",
       "       [0, 0, 0, 0],\n",
       "       [0, 1, 0, 0],\n",
       "       [0, 0, 0, 0]])"
      ]
     },
     "execution_count": 6,
     "metadata": {},
     "output_type": "execute_result"
    }
   ],
   "source": [
    "build_matrix([0,2,0,0],4,2) #test"
   ]
  },
  {
   "cell_type": "code",
   "execution_count": 7,
   "metadata": {},
   "outputs": [],
   "source": [
    "#HEURYSTYKI\n",
    "def H1(board, n_queens, queens_placed): \n",
    "    wcol = np.zeros(queens_placed,dtype=np.int)\n",
    "    for i,row in  enumerate(board[:queens_placed]):\n",
    "        wcol[i] = (n_queens - row +1 if row <= n_queens / 2 else row)\n",
    "        #print(wcol[i], row)\n",
    "    return (n_queens - queens_placed) * np.sum(wcol)"
   ]
  },
  {
   "cell_type": "code",
   "execution_count": 8,
   "metadata": {},
   "outputs": [
    {
     "data": {
      "text/plain": [
       "12"
      ]
     },
     "execution_count": 8,
     "metadata": {},
     "output_type": "execute_result"
    }
   ],
   "source": [
    "H1(np.array([2,3,0,0]),4,2) # trzeba dodać 1 #test"
   ]
  },
  {
   "cell_type": "code",
   "execution_count": 9,
   "metadata": {},
   "outputs": [],
   "source": [
    "def H2(board,n_queens, queens_placed): \n",
    "    matrix = build_matrix(board,n_queens, queens_placed) #tworzymy macierz z wektora hetmanów\n",
    "    for y,x in  enumerate(board[:queens_placed]):\n",
    "        # kolumny i wiersze\n",
    "        matrix[x,:] =1\n",
    "        matrix[:,y] = 1\n",
    "        #skosy\n",
    "        n_elements = min(x,y)\n",
    "        n_diff = min(n_queens -x-1,y)\n",
    "        \n",
    "        diag1_x, diag1_y = x- n_elements, y-n_elements\n",
    "        diag2_x, diag2_y = x+ n_diff, y-n_diff\n",
    "        \n",
    "        max_elements_diag1 = n_queens - max(diag1_x,diag1_y)\n",
    "        max_elements_diag2 = min(diag2_x, n_queens - diag2_y -1) +1\n",
    "        for i in range(0,max_elements_diag1):\n",
    "            matrix[diag1_x+i, diag1_y+i]=1\n",
    "        for i in range(0,max_elements_diag2):\n",
    "            matrix[diag2_x-i, diag2_y+i]=1\n",
    "        #matrix[diag1_x:diag1_x+max_elements_diag1, diag1_y:diag1_y+max_elements_diag1]=1\n",
    "        #matrix[diag2_x-max_elements_diag2:diag2_x, diag2_x+max_elements_diag2:diag2_x]=1\n",
    "    print(matrix)\n",
    "    return matrix.sum(),n_queens**2 - matrix.sum()"
   ]
  },
  {
   "cell_type": "code",
   "execution_count": 10,
   "metadata": {},
   "outputs": [
    {
     "name": "stdout",
     "output_type": "stream",
     "text": [
      "[[1 1 1 1]\n",
      " [1 1 1 0]\n",
      " [1 1 1 1]\n",
      " [1 1 1 1]]\n"
     ]
    },
    {
     "data": {
      "text/plain": [
       "(15, 1)"
      ]
     },
     "execution_count": 10,
     "metadata": {},
     "output_type": "execute_result"
    }
   ],
   "source": [
    "H2(np.array([0,2,0,0]),4,2)#test"
   ]
  },
  {
   "cell_type": "code",
   "execution_count": 11,
   "metadata": {},
   "outputs": [],
   "source": [
    "def H3(board,n_queens, queens_placed): \n",
    "    dh = queens_placed\n",
    "    S = (n_queens /2) *(n_queens -1)\n",
    "    counter = Counter(board[:queens_placed]) # dla każdego rzędu\n",
    "    for values in counter.values():\n",
    "        if values >1:\n",
    "            dh -= (values+1)\n",
    "    return S - dh"
   ]
  },
  {
   "cell_type": "code",
   "execution_count": 12,
   "metadata": {},
   "outputs": [
    {
     "data": {
      "text/plain": [
       "3.0"
      ]
     },
     "execution_count": 12,
     "metadata": {},
     "output_type": "execute_result"
    }
   ],
   "source": [
    "H3([0,1,3,0],4,3)#test"
   ]
  },
  {
   "cell_type": "code",
   "execution_count": 54,
   "metadata": {},
   "outputs": [],
   "source": [
    "def H(number,n_queens,board, queens_placed):\n",
    "    switch ={\n",
    "        0:None,\n",
    "        1:H1,\n",
    "        2:H2,\n",
    "        3:H3\n",
    "    }\n",
    "    board_state = board[:] + 1 if number ==1 else board[:]\n",
    "    heuristic = switch[number]\n",
    "    if number: return heuristic(board_state,n_queens, queens_placed) \n",
    "    else: return 0"
   ]
  },
  {
   "cell_type": "code",
   "execution_count": 80,
   "metadata": {},
   "outputs": [],
   "source": [
    "class Strategy:\n",
    "    def __init__(self,size : int, applied_heuristics =0,Brute_Force_enabled = 0,\n",
    "                 BFS_strategy=True,print_full_board=True, find_first_breakout= True):\n",
    "        self.state_check_counter = 0 #ilość sprawdzonych stanów przez algorytm\n",
    "        self.generate_counter =0 # ilość wygenerowanych stanów\n",
    "        self.correct_counter =0 # ilość odnalezionych rozwiązań\n",
    "        self.size = size\n",
    "        #self.q = deque()\n",
    "        #self.q = []\n",
    "        self.q =PQ()\n",
    "        self.bf_enabled = Brute_Force_enabled #true => Brute Force | false =smart\n",
    "        self.Strategy =BFS_strategy#true =>BFS | false => DFS\n",
    "        self.print_full_board_bool = print_full_board\n",
    "        self.find_first = find_first_breakout\n",
    "        self.applied_heuristics =applied_heuristics\n",
    "        \n",
    "    def add_genereted_counter(self):\n",
    "        self.generate_counter +=1\n",
    "        \n",
    "    def add_correct_counter(self):\n",
    "        self.correct_counter +=1\n",
    "    \n",
    "    def add_state_check_counter(self):\n",
    "        self.state_check_counter +=1\n",
    "        \n",
    "    def print_opening(self):\n",
    "        print('############################################################')\n",
    "        if self.Strategy and not self.applied_heuristics:\n",
    "            algo = \"Breadth First Search(BFS)\" \n",
    "        elif   self.Strategy and self.applied_heuristics :\n",
    "            algo = \"Best First Search(BFS)\"\n",
    "        else:\n",
    "            algo=\"Depth First Search(DFS)\" \n",
    "        print(\"{0} STRATEGY\".format(algo))\n",
    "        print(\"{0}\".format(\"Brute Force\"  if self.bf_enabled else \"Inteligent approach\" ))\n",
    "        \n",
    "        print(\"{0} Applied\".format(\"Heuristic \"+ self.applied_heuristics if self.applied_heuristics else \"No Heuristic\"))\n",
    "        \n",
    "    def append_queue(self, board,heuristic_value =0):\n",
    "        #self.q.append((heuristic_value, dcopy(board)))\n",
    "        #self.q=heapq.heappush(self.q, (heuristic_value, dcopy(board)))\n",
    "        #heapq.heapify(self.q[0][:])\n",
    "        self.q.put((heuristic_value, dcopy(board)))\n",
    "        self.add_genereted_counter()\n",
    "        \n",
    "    def generate_primary_state(self): # board ma byc obiektem klasy chessboard którym będziemy wysterowywac kolejkę\n",
    "        board = Chessboard(self.size)\n",
    "        self.q.put((0,board)) #(heurystyka,obiekt klasy Chessboard)\n",
    "        \n",
    "    def check_no_multi_values(self, board_state): #Drugi warunek poprawności stanów\n",
    "        counter = Counter(board_state) \n",
    "        for values in counter.values(): \n",
    "             if values > 1: \n",
    "                return False\n",
    "        return True\n",
    "        \n",
    "    def inteligent_position(self, board,current_checked_column, n_queen): \n",
    "        board_slice = board[:n_queen+1]\n",
    "        board_slice[n_queen] = current_checked_column\n",
    "        self.add_state_check_counter()\n",
    "        if not self.check_no_multi_values(board): return False\n",
    "        for current_queen in range(0, n_queen):\n",
    "            if np.abs(current_queen-n_queen) == np.abs(board_slice[current_queen]-current_checked_column):\n",
    "                return False\n",
    "        return True\n",
    "        \n",
    "    def generate_succesor(self,board): #queen_row => czyli jakiego hetmana będziemy ustawiać       \n",
    "        primary_state, queen_row = board.get_positions()\n",
    "        for column_position in range(0, self.size):\n",
    "            if self.bf_enabled  or self.inteligent_position(primary_state,column_position,queen_row): #prymitywne podejście albo właściwa pozycja bez bicia\n",
    "                board.position(column_position,queen_row+1)\n",
    "                board.add_queen_counter()\n",
    "                heuristic_value = H(self.applied_heuristics,self.size,primary_state, queen_row  )\n",
    "                self.append_queue(board,heuristic_value)\n",
    "                board.default_position(primary_state,queen_row)\n",
    "    \n",
    "    def check_if_not_attacking(self, board_state):\n",
    "        for i,h1 in enumerate(board_state):\n",
    "                for j,h2 in enumerate( board_state):\n",
    "                    if i != j and np.abs(i-j) ==np.abs(h1-h2)  :\n",
    "                        return False\n",
    "        return True\n",
    "    \n",
    "    def check_final_board_state(self, board): # test osiągniecia celu\n",
    "        \"\"\"\n",
    "        test ośiągnięcia celu\n",
    "        \"\"\"\n",
    "        print(board.get_positions()) #USUNAC\n",
    "        if self.bf_enabled: #warunek końcowy Brute force\n",
    "            if  board.get_queen_counter() < self.size: # jeżeli nie umieściliśmy wszystkich hetmanów zwacamy falsz\n",
    "                return False\n",
    "            self.add_state_check_counter()\n",
    "            #drugi warunek i trzeci >>>> True and True = True \n",
    "            return check_no_multi_values(board.get_positions()[0]) and check_if_not_attacking(board.get_positions()[0])\n",
    "        else: #warunek końcowy smart\n",
    "            if board.get_queen_counter() ==self.size: return True       \n",
    "            return False\n",
    "        \n",
    "    def pop_board(self):\n",
    "        #if self.Strategy >0 : #BFS lub BSF\n",
    "        #    return self.q.popleft()# pobierz z początku listy najstarszy stan\n",
    "        #else:#STRATEGIA DFS\n",
    "        #   return  self.q.pop() # pobierz z końca listy ostatnio dodany stan\n",
    "        #return heapq.heappop(self.q)\n",
    "        return self.q.get()\n",
    "    def main_loop(self):\n",
    "        #while len(self.q): # dopóki lista stanów do przeszukania nie jest pusta\n",
    "        while not self.q.empty():\n",
    "            heuristic, oldest_state=self.pop_board() #BOARD_STATE MUSI BYC OBIEKTEM KLASY CHESSBOARD\n",
    "            print(heuristic, oldest_state.get_positions()) #USUNAC\n",
    "            n_queens = oldest_state.get_queen_counter()           \n",
    "            if self.check_final_board_state(oldest_state): # jeżeli został osiągnięty cel\n",
    "                    print_queens_positions(oldest_state.get_positions()[0]) # wyświetl pierwsze znalezione rozwiązanie\n",
    "                    oldest_state.get_positions()[0].print_board(self.print_full_board_bool);\n",
    "                    self.add_correct_counter()\n",
    "                    if self.find_first: break # jeżeli masz skończyć wyszukiwanie po pierwszym sukcesie \n",
    "            if n_queens != self.size:\n",
    "                self.generate_succesor( oldest_state) # wygeneruj wszystkich potomków aktualnego stanu\n",
    "        \n",
    "        return self.generate_counter, self.state_check_counter, self.correct_counter \n",
    "    \n",
    "    "
   ]
  },
  {
   "cell_type": "code",
   "execution_count": 19,
   "metadata": {},
   "outputs": [
    {
     "ename": "SyntaxError",
     "evalue": "unexpected EOF while parsing (<ipython-input-19-20c678d2e9f7>, line 2)",
     "output_type": "error",
     "traceback": [
      "\u001b[1;36m  File \u001b[1;32m\"<ipython-input-19-20c678d2e9f7>\"\u001b[1;36m, line \u001b[1;32m2\u001b[0m\n\u001b[1;33m    def data_to_dataframe(df, column_name):\u001b[0m\n\u001b[1;37m                                           ^\u001b[0m\n\u001b[1;31mSyntaxError\u001b[0m\u001b[1;31m:\u001b[0m unexpected EOF while parsing\n"
     ]
    }
   ],
   "source": [
    "#TODO TRZEBA ZROBIC ZBIERANIE DANYCH I WYSWIETLANIE W WYKRESACH / ZAPISYWANIE WYKRESOW\n",
    "def data_to_dataframe(df, column_name):\n",
    "    pass"
   ]
  },
  {
   "cell_type": "code",
   "execution_count": null,
   "metadata": {},
   "outputs": [],
   "source": [
    "def plot_scores(df, title):\n",
    "    pass"
   ]
  },
  {
   "cell_type": "code",
   "execution_count": 77,
   "metadata": {},
   "outputs": [],
   "source": [
    "def Experiment(n_start=4, n_stop=20, heuristic=0,algo=1,strat= 0,\n",
    "               print_full_board=True, find_first_breakout= True): #główna pętla eksperymentu\n",
    "    if n_start < 4 : return 1 # nie istnieją rozwiązania   \n",
    "    n_array = np.array(list(range(n_start,n_stop+1)))\n",
    "    generate_list, state_check_list, correct_list, time_list = [],[],[],[]\n",
    "    for n in n_array:# pętla po wielkości szachownicy \n",
    "        timer_start = time()\n",
    "        strategy = Strategy(n,applied_heuristics =heuristic,Brute_Force_enabled = strat,\n",
    "                 BFS_strategy=algo,print_full_board=print_full_board, find_first_breakout= find_first_breakout)\n",
    "        strategy.print_opening()\n",
    "        strategy.generate_primary_state()\n",
    "        generate_cnt, state_check_cnt, correct_cnt =strategy.main_loop()\n",
    "        timer_stop = time()\n",
    "        timer = timer_stop - timer_start\n",
    "        generate_list.append(generate_cnt)\n",
    "        state_check_list.append(state_check_cnt)\n",
    "        correct_list.append(correct_cnt)\n",
    "        time_list.append(timer)\n",
    "        print_stats(n,generate_cnt, state_check_cnt,correct_cnt,timer)\n",
    "    return generate_list, state_check_list,correct_list,time_list"
   ]
  },
  {
   "cell_type": "code",
   "execution_count": 81,
   "metadata": {},
   "outputs": [
    {
     "name": "stdout",
     "output_type": "stream",
     "text": [
      "############################################################\n",
      "Breadth First Search(BFS) STRATEGY\n",
      "Brute Force\n",
      "No Heuristic Applied\n",
      "0 (array([0, 0, 0, 0]), 0)\n",
      "(array([0, 0, 0, 0]), 0)\n"
     ]
    },
    {
     "ename": "TypeError",
     "evalue": "'<' not supported between instances of 'Chessboard' and 'Chessboard'",
     "output_type": "error",
     "traceback": [
      "\u001b[1;31m---------------------------------------------------------------------------\u001b[0m",
      "\u001b[1;31mTypeError\u001b[0m                                 Traceback (most recent call last)",
      "\u001b[1;32m<ipython-input-81-20bc2410a0ce>\u001b[0m in \u001b[0;36m<module>\u001b[1;34m\u001b[0m\n\u001b[0;32m      7\u001b[0m \u001b[1;32mfor\u001b[0m \u001b[0mh\u001b[0m \u001b[1;32min\u001b[0m \u001b[0mheuristic_list\u001b[0m\u001b[1;33m:\u001b[0m\u001b[1;33m\u001b[0m\u001b[1;33m\u001b[0m\u001b[0m\n\u001b[0;32m      8\u001b[0m     \u001b[1;32mfor\u001b[0m \u001b[0mbf\u001b[0m \u001b[1;32min\u001b[0m \u001b[0mbf_enable_list\u001b[0m\u001b[1;33m:\u001b[0m\u001b[1;33m\u001b[0m\u001b[1;33m\u001b[0m\u001b[0m\n\u001b[1;32m----> 9\u001b[1;33m         generate_list, state_check_list,correct_list,time_list = Experiment(n_start, n_stop,heuristic=h,algo=1,strat= bf,\n\u001b[0m\u001b[0;32m     10\u001b[0m                                                                             print_full_board=True, find_first_breakout= True )\n\u001b[0;32m     11\u001b[0m         \u001b[1;32mfor\u001b[0m \u001b[0mcolumn\u001b[0m \u001b[1;32min\u001b[0m \u001b[1;33m[\u001b[0m\u001b[0mgenerate_list\u001b[0m\u001b[1;33m,\u001b[0m \u001b[0mstate_check_list\u001b[0m\u001b[1;33m,\u001b[0m\u001b[0mcorrect_list\u001b[0m\u001b[1;33m,\u001b[0m\u001b[0mtime_list\u001b[0m\u001b[1;33m]\u001b[0m\u001b[1;33m:\u001b[0m\u001b[1;33m\u001b[0m\u001b[1;33m\u001b[0m\u001b[0m\n",
      "\u001b[1;32m<ipython-input-77-c031478cf15d>\u001b[0m in \u001b[0;36mExperiment\u001b[1;34m(n_start, n_stop, heuristic, algo, strat, print_full_board, find_first_breakout)\u001b[0m\n\u001b[0;32m     10\u001b[0m         \u001b[0mstrategy\u001b[0m\u001b[1;33m.\u001b[0m\u001b[0mprint_opening\u001b[0m\u001b[1;33m(\u001b[0m\u001b[1;33m)\u001b[0m\u001b[1;33m\u001b[0m\u001b[1;33m\u001b[0m\u001b[0m\n\u001b[0;32m     11\u001b[0m         \u001b[0mstrategy\u001b[0m\u001b[1;33m.\u001b[0m\u001b[0mgenerate_primary_state\u001b[0m\u001b[1;33m(\u001b[0m\u001b[1;33m)\u001b[0m\u001b[1;33m\u001b[0m\u001b[1;33m\u001b[0m\u001b[0m\n\u001b[1;32m---> 12\u001b[1;33m         \u001b[0mgenerate_cnt\u001b[0m\u001b[1;33m,\u001b[0m \u001b[0mstate_check_cnt\u001b[0m\u001b[1;33m,\u001b[0m \u001b[0mcorrect_cnt\u001b[0m \u001b[1;33m=\u001b[0m\u001b[0mstrategy\u001b[0m\u001b[1;33m.\u001b[0m\u001b[0mmain_loop\u001b[0m\u001b[1;33m(\u001b[0m\u001b[1;33m)\u001b[0m\u001b[1;33m\u001b[0m\u001b[1;33m\u001b[0m\u001b[0m\n\u001b[0m\u001b[0;32m     13\u001b[0m         \u001b[0mtimer_stop\u001b[0m \u001b[1;33m=\u001b[0m \u001b[0mtime\u001b[0m\u001b[1;33m(\u001b[0m\u001b[1;33m)\u001b[0m\u001b[1;33m\u001b[0m\u001b[1;33m\u001b[0m\u001b[0m\n\u001b[0;32m     14\u001b[0m         \u001b[0mtimer\u001b[0m \u001b[1;33m=\u001b[0m \u001b[0mtimer_stop\u001b[0m \u001b[1;33m-\u001b[0m \u001b[0mtimer_start\u001b[0m\u001b[1;33m\u001b[0m\u001b[1;33m\u001b[0m\u001b[0m\n",
      "\u001b[1;32m<ipython-input-80-ac0b7aa252d6>\u001b[0m in \u001b[0;36mmain_loop\u001b[1;34m(self)\u001b[0m\n\u001b[0;32m    116\u001b[0m                     \u001b[1;32mif\u001b[0m \u001b[0mself\u001b[0m\u001b[1;33m.\u001b[0m\u001b[0mfind_first\u001b[0m\u001b[1;33m:\u001b[0m \u001b[1;32mbreak\u001b[0m \u001b[1;31m# jeżeli masz skończyć wyszukiwanie po pierwszym sukcesie\u001b[0m\u001b[1;33m\u001b[0m\u001b[1;33m\u001b[0m\u001b[0m\n\u001b[0;32m    117\u001b[0m             \u001b[1;32mif\u001b[0m \u001b[0mn_queens\u001b[0m \u001b[1;33m!=\u001b[0m \u001b[0mself\u001b[0m\u001b[1;33m.\u001b[0m\u001b[0msize\u001b[0m\u001b[1;33m:\u001b[0m\u001b[1;33m\u001b[0m\u001b[1;33m\u001b[0m\u001b[0m\n\u001b[1;32m--> 118\u001b[1;33m                 \u001b[0mself\u001b[0m\u001b[1;33m.\u001b[0m\u001b[0mgenerate_succesor\u001b[0m\u001b[1;33m(\u001b[0m \u001b[0moldest_state\u001b[0m\u001b[1;33m)\u001b[0m \u001b[1;31m# wygeneruj wszystkich potomków aktualnego stanu\u001b[0m\u001b[1;33m\u001b[0m\u001b[1;33m\u001b[0m\u001b[0m\n\u001b[0m\u001b[0;32m    119\u001b[0m \u001b[1;33m\u001b[0m\u001b[0m\n\u001b[0;32m    120\u001b[0m         \u001b[1;32mreturn\u001b[0m \u001b[0mself\u001b[0m\u001b[1;33m.\u001b[0m\u001b[0mgenerate_counter\u001b[0m\u001b[1;33m,\u001b[0m \u001b[0mself\u001b[0m\u001b[1;33m.\u001b[0m\u001b[0mstate_check_counter\u001b[0m\u001b[1;33m,\u001b[0m \u001b[0mself\u001b[0m\u001b[1;33m.\u001b[0m\u001b[0mcorrect_counter\u001b[0m\u001b[1;33m\u001b[0m\u001b[1;33m\u001b[0m\u001b[0m\n",
      "\u001b[1;32m<ipython-input-80-ac0b7aa252d6>\u001b[0m in \u001b[0;36mgenerate_succesor\u001b[1;34m(self, board)\u001b[0m\n\u001b[0;32m     72\u001b[0m                 \u001b[0mboard\u001b[0m\u001b[1;33m.\u001b[0m\u001b[0madd_queen_counter\u001b[0m\u001b[1;33m(\u001b[0m\u001b[1;33m)\u001b[0m\u001b[1;33m\u001b[0m\u001b[1;33m\u001b[0m\u001b[0m\n\u001b[0;32m     73\u001b[0m                 \u001b[0mheuristic_value\u001b[0m \u001b[1;33m=\u001b[0m \u001b[0mH\u001b[0m\u001b[1;33m(\u001b[0m\u001b[0mself\u001b[0m\u001b[1;33m.\u001b[0m\u001b[0mapplied_heuristics\u001b[0m\u001b[1;33m,\u001b[0m\u001b[0mself\u001b[0m\u001b[1;33m.\u001b[0m\u001b[0msize\u001b[0m\u001b[1;33m,\u001b[0m\u001b[0mprimary_state\u001b[0m\u001b[1;33m,\u001b[0m \u001b[0mqueen_row\u001b[0m  \u001b[1;33m)\u001b[0m\u001b[1;33m\u001b[0m\u001b[1;33m\u001b[0m\u001b[0m\n\u001b[1;32m---> 74\u001b[1;33m                 \u001b[0mself\u001b[0m\u001b[1;33m.\u001b[0m\u001b[0mappend_queue\u001b[0m\u001b[1;33m(\u001b[0m\u001b[0mboard\u001b[0m\u001b[1;33m,\u001b[0m\u001b[0mheuristic_value\u001b[0m\u001b[1;33m)\u001b[0m\u001b[1;33m\u001b[0m\u001b[1;33m\u001b[0m\u001b[0m\n\u001b[0m\u001b[0;32m     75\u001b[0m                 \u001b[0mboard\u001b[0m\u001b[1;33m.\u001b[0m\u001b[0mdefault_position\u001b[0m\u001b[1;33m(\u001b[0m\u001b[0mprimary_state\u001b[0m\u001b[1;33m,\u001b[0m\u001b[0mqueen_row\u001b[0m\u001b[1;33m)\u001b[0m\u001b[1;33m\u001b[0m\u001b[1;33m\u001b[0m\u001b[0m\n\u001b[0;32m     76\u001b[0m \u001b[1;33m\u001b[0m\u001b[0m\n",
      "\u001b[1;32m<ipython-input-80-ac0b7aa252d6>\u001b[0m in \u001b[0;36mappend_queue\u001b[1;34m(self, board, heuristic_value)\u001b[0m\n\u001b[0;32m     41\u001b[0m         \u001b[1;31m#self.q=heapq.heappush(self.q, (heuristic_value, dcopy(board)))\u001b[0m\u001b[1;33m\u001b[0m\u001b[1;33m\u001b[0m\u001b[1;33m\u001b[0m\u001b[0m\n\u001b[0;32m     42\u001b[0m         \u001b[1;31m#heapq.heapify(self.q[0][:])\u001b[0m\u001b[1;33m\u001b[0m\u001b[1;33m\u001b[0m\u001b[1;33m\u001b[0m\u001b[0m\n\u001b[1;32m---> 43\u001b[1;33m         \u001b[0mself\u001b[0m\u001b[1;33m.\u001b[0m\u001b[0mq\u001b[0m\u001b[1;33m.\u001b[0m\u001b[0mput\u001b[0m\u001b[1;33m(\u001b[0m\u001b[1;33m(\u001b[0m\u001b[0mheuristic_value\u001b[0m\u001b[1;33m,\u001b[0m \u001b[0mdcopy\u001b[0m\u001b[1;33m(\u001b[0m\u001b[0mboard\u001b[0m\u001b[1;33m)\u001b[0m\u001b[1;33m)\u001b[0m\u001b[1;33m)\u001b[0m\u001b[1;33m\u001b[0m\u001b[1;33m\u001b[0m\u001b[0m\n\u001b[0m\u001b[0;32m     44\u001b[0m         \u001b[0mself\u001b[0m\u001b[1;33m.\u001b[0m\u001b[0madd_genereted_counter\u001b[0m\u001b[1;33m(\u001b[0m\u001b[1;33m)\u001b[0m\u001b[1;33m\u001b[0m\u001b[1;33m\u001b[0m\u001b[0m\n\u001b[0;32m     45\u001b[0m \u001b[1;33m\u001b[0m\u001b[0m\n",
      "\u001b[1;32mC:\\Program Files\\WindowsApps\\PythonSoftwareFoundation.Python.3.8_3.8.1776.0_x64__qbz5n2kfra8p0\\lib\\queue.py\u001b[0m in \u001b[0;36mput\u001b[1;34m(self, item, block, timeout)\u001b[0m\n\u001b[0;32m    147\u001b[0m                             \u001b[1;32mraise\u001b[0m \u001b[0mFull\u001b[0m\u001b[1;33m\u001b[0m\u001b[1;33m\u001b[0m\u001b[0m\n\u001b[0;32m    148\u001b[0m                         \u001b[0mself\u001b[0m\u001b[1;33m.\u001b[0m\u001b[0mnot_full\u001b[0m\u001b[1;33m.\u001b[0m\u001b[0mwait\u001b[0m\u001b[1;33m(\u001b[0m\u001b[0mremaining\u001b[0m\u001b[1;33m)\u001b[0m\u001b[1;33m\u001b[0m\u001b[1;33m\u001b[0m\u001b[0m\n\u001b[1;32m--> 149\u001b[1;33m             \u001b[0mself\u001b[0m\u001b[1;33m.\u001b[0m\u001b[0m_put\u001b[0m\u001b[1;33m(\u001b[0m\u001b[0mitem\u001b[0m\u001b[1;33m)\u001b[0m\u001b[1;33m\u001b[0m\u001b[1;33m\u001b[0m\u001b[0m\n\u001b[0m\u001b[0;32m    150\u001b[0m             \u001b[0mself\u001b[0m\u001b[1;33m.\u001b[0m\u001b[0munfinished_tasks\u001b[0m \u001b[1;33m+=\u001b[0m \u001b[1;36m1\u001b[0m\u001b[1;33m\u001b[0m\u001b[1;33m\u001b[0m\u001b[0m\n\u001b[0;32m    151\u001b[0m             \u001b[0mself\u001b[0m\u001b[1;33m.\u001b[0m\u001b[0mnot_empty\u001b[0m\u001b[1;33m.\u001b[0m\u001b[0mnotify\u001b[0m\u001b[1;33m(\u001b[0m\u001b[1;33m)\u001b[0m\u001b[1;33m\u001b[0m\u001b[1;33m\u001b[0m\u001b[0m\n",
      "\u001b[1;32mC:\\Program Files\\WindowsApps\\PythonSoftwareFoundation.Python.3.8_3.8.1776.0_x64__qbz5n2kfra8p0\\lib\\queue.py\u001b[0m in \u001b[0;36m_put\u001b[1;34m(self, item)\u001b[0m\n\u001b[0;32m    231\u001b[0m \u001b[1;33m\u001b[0m\u001b[0m\n\u001b[0;32m    232\u001b[0m     \u001b[1;32mdef\u001b[0m \u001b[0m_put\u001b[0m\u001b[1;33m(\u001b[0m\u001b[0mself\u001b[0m\u001b[1;33m,\u001b[0m \u001b[0mitem\u001b[0m\u001b[1;33m)\u001b[0m\u001b[1;33m:\u001b[0m\u001b[1;33m\u001b[0m\u001b[1;33m\u001b[0m\u001b[0m\n\u001b[1;32m--> 233\u001b[1;33m         \u001b[0mheappush\u001b[0m\u001b[1;33m(\u001b[0m\u001b[0mself\u001b[0m\u001b[1;33m.\u001b[0m\u001b[0mqueue\u001b[0m\u001b[1;33m,\u001b[0m \u001b[0mitem\u001b[0m\u001b[1;33m)\u001b[0m\u001b[1;33m\u001b[0m\u001b[1;33m\u001b[0m\u001b[0m\n\u001b[0m\u001b[0;32m    234\u001b[0m \u001b[1;33m\u001b[0m\u001b[0m\n\u001b[0;32m    235\u001b[0m     \u001b[1;32mdef\u001b[0m \u001b[0m_get\u001b[0m\u001b[1;33m(\u001b[0m\u001b[0mself\u001b[0m\u001b[1;33m)\u001b[0m\u001b[1;33m:\u001b[0m\u001b[1;33m\u001b[0m\u001b[1;33m\u001b[0m\u001b[0m\n",
      "\u001b[1;31mTypeError\u001b[0m: '<' not supported between instances of 'Chessboard' and 'Chessboard'"
     ]
    }
   ],
   "source": [
    "#experyment dla  BFS\n",
    "n_start =4\n",
    "n_stop=20\n",
    "df_BFS = pd.DataFrame(np.arange(n_start, n_stop),columns=[\"n_queens\"]).set_index('n_queens')\n",
    "heuristic_list = np.arange(0,4)\n",
    "bf_enable_list = [1,0]\n",
    "for h in heuristic_list:\n",
    "    for bf in bf_enable_list:\n",
    "        generate_list, state_check_list,correct_list,time_list = Experiment(n_start, n_stop,heuristic=h,algo=1,strat= bf,\n",
    "                                                                            print_full_board=True, find_first_breakout= True )\n",
    "        for column in [generate_list, state_check_list,correct_list,time_list]:\n",
    "            data_to_dataframe(df_BFS,column)\n",
    "plot_scores(df_BFS, \"BFS\")"
   ]
  }
 ],
 "metadata": {
  "kernelspec": {
   "display_name": "Python 3",
   "language": "python",
   "name": "python3"
  },
  "language_info": {
   "codemirror_mode": {
    "name": "ipython",
    "version": 3
   },
   "file_extension": ".py",
   "mimetype": "text/x-python",
   "name": "python",
   "nbconvert_exporter": "python",
   "pygments_lexer": "ipython3",
   "version": "3.8.6"
  }
 },
 "nbformat": 4,
 "nbformat_minor": 4
}
