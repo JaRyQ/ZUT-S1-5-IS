{
 "cells": [
  {
   "cell_type": "code",
   "execution_count": 13,
   "metadata": {},
   "outputs": [],
   "source": [
    "import numpy as np\n",
    "from time import time\n",
    "from collections import deque\n",
    "from copy import deepcopy as dcopy\n",
    "from collections import Counter\n"
   ]
  },
  {
   "cell_type": "code",
   "execution_count": 2,
   "metadata": {},
   "outputs": [],
   "source": [
    "class Chessboard:\n",
    "    def __init__(self,n = 4): # inicjalizacja\n",
    "        self.size=n\n",
    "        self.board = np.zeros((self.size),dtype=np.int)\n",
    "        self.queens_counter =0 \n",
    "        \n",
    "    def position(self,row,column): # ustawienie królowej na szachownicy\n",
    "        self.board[row] = column\n",
    "        \n",
    "    def print_board(self,print_full_board=True): # wyświetlenie szachownicy\n",
    "        if print_full_board:\n",
    "            full_chessboard = np.zeros((self.size,self.size),dtype=np.int)\n",
    "            for position, queen_position in zip(range(0,self.size),self.board) :\n",
    "                full_chessboard [queen_position][position] = 1\n",
    "            print( full_chessboard, end='\\n\\n')\n",
    "            \n",
    "    def get_positions(self):\n",
    "        return  self.board[:]\n",
    "    \n",
    "    def default_position(self,queens_array):\n",
    "        self.board[:]  = queens_array[:]\n",
    "        \n",
    "    def add_queen_counter(self):\n",
    "        self.queens_counter +=1\n",
    "        \n",
    "    def get_queen_counter(self):\n",
    "        return self.queens_counter\n",
    "    \n",
    "    def set_queens_counter(self,n_queens):\n",
    "        self.queens_counter = n_queens"
   ]
  },
  {
   "cell_type": "code",
   "execution_count": 3,
   "metadata": {},
   "outputs": [],
   "source": [
    "def print_queens_positions(chessboard: Chessboard):\n",
    "    \"\"\"\n",
    "    wyświetl pozycje hetmanów na szachownicy w czytelny dla człowieka sposób\n",
    "    \"\"\"\n",
    "    print(\" queens positions: {0}\".format(chessboard.get_positions()+1)) # +1 dla czytelności "
   ]
  },
  {
   "cell_type": "code",
   "execution_count": 14,
   "metadata": {},
   "outputs": [],
   "source": [
    "def print_stats(n_queens,generate_counter, state_check_counter,correct_counter,timer):\n",
    "    \"\"\"\n",
    "    wyświetl statystyki jednej iteracji eksperymentu\n",
    "    \"\"\"\n",
    "    print(\"N_queens: {0}\".format(n_queens))\n",
    "    print(\"Number of correct states: {0}\".format(correct_counter))\n",
    "    print(\"Number of generated states: {0}\".format(generate_counter))\n",
    "    print(\"Number of checked states: {0}\".format(state_check_counter))\n",
    "    print(\"Time spent: {0}\".format(timer), end='\\n\\n')"
   ]
  },
  {
   "cell_type": "code",
   "execution_count": 107,
   "metadata": {},
   "outputs": [],
   "source": [
    "#HEURYSTYKI\n",
    "def H1(board, n_queens, queens_placed): #TODO\n",
    "    wcol = np.zeros(queens_placed,dtype=np.int)\n",
    "    #states = map(lambda x:x+1, board[:queens_placed])\n",
    "    #for i,row in  enumerate(states):\n",
    "    for i,row in  enumerate(board[:queens_placed]):\n",
    "        wcol[i] = (n_queens - row  if row < n_queens / 2 else row)\n",
    "        print(wcol[i])\n",
    "    return (n_queens - queens_placed) * np.sum(wcol)"
   ]
  },
  {
   "cell_type": "code",
   "execution_count": 113,
   "metadata": {},
   "outputs": [
    {
     "name": "stdout",
     "output_type": "stream",
     "text": [
      "2\n"
     ]
    },
    {
     "data": {
      "text/plain": [
       "6"
      ]
     },
     "execution_count": 113,
     "metadata": {},
     "output_type": "execute_result"
    }
   ],
   "source": [
    "H1([2,0,0,0],4,1)"
   ]
  },
  {
   "cell_type": "code",
   "execution_count": 115,
   "metadata": {},
   "outputs": [],
   "source": [
    "def H2(): #TODO\n",
    "    pass"
   ]
  },
  {
   "cell_type": "code",
   "execution_count": 116,
   "metadata": {},
   "outputs": [],
   "source": [
    "def H3(): #TODO\n",
    "    pass"
   ]
  },
  {
   "cell_type": "code",
   "execution_count": null,
   "metadata": {},
   "outputs": [],
   "source": [
    "def H4(): #TODO\n",
    "    pass"
   ]
  },
  {
   "cell_type": "code",
   "execution_count": 12,
   "metadata": {},
   "outputs": [
    {
     "ename": "SyntaxError",
     "evalue": "invalid syntax (<ipython-input-12-f548ef103034>, line 90)",
     "output_type": "error",
     "traceback": [
      "\u001b[1;36m  File \u001b[1;32m\"<ipython-input-12-f548ef103034>\"\u001b[1;36m, line \u001b[1;32m90\u001b[0m\n\u001b[1;33m    (queens_state, n_queens = self.q.popleft()) if self.BFS_strategy else queens_state, n_queens = self.q.pop()\u001b[0m\n\u001b[1;37m                            ^\u001b[0m\n\u001b[1;31mSyntaxError\u001b[0m\u001b[1;31m:\u001b[0m invalid syntax\n"
     ]
    }
   ],
   "source": [
    "#test na zawarcie jednej klasy strategy\n",
    "class Strategy:\n",
    "    def __init__(self,size : int, Brute_Force_enabled = True, BFS_strategy=True,print_full_board=True):\n",
    "        self.bf_enabled = Brute_Force_enabled #true => Brute Force | false =smart\n",
    "        self.BFS_strategy =BFS_strategy#true =>BFS | false => DFS\n",
    "        self.state_check_counter = 0\n",
    "        self.generate_counter =0 \n",
    "        self.correct_counter =0\n",
    "        self.size = size\n",
    "        self.q = deque()\n",
    "        self.print_full_board_bool = print_full_board\n",
    "                \n",
    "    def print_opening(self):\n",
    "        print('############################################################')\n",
    "        print(\"{0} STRATEGY\".format(\"Breadth First Search(BFS)\"  if self.BFS_strategy else \"Depth First Search(DFS)\" ))\n",
    "        print(\"{0}\".format(\"Brute Force\"  if self.bf_enabled else \"Inteligent approach\" ))\n",
    "        \n",
    "    def append_queue(self, state, queen_row,column_position):\n",
    "        state.position(queen_row, column_position)\n",
    "        self.q.append((dcopy(state.get_positions()), queen_row+1))\n",
    "        self.generate_counter +=1\n",
    "    def generate_primary_state(self):\n",
    "        board = Chessboard(self.size)\n",
    "        self.q.append((board.get_positions(),0))\n",
    "\n",
    "    def inteligent_position(self, board,current_checked_column): \n",
    "        n_queen = board.get_queen_counter()\n",
    "        board_slice = board.get_positions()[:n_queen+1]\n",
    "        board_slice[n_queen] = current_checked_column\n",
    "        self.state_check_counter += 1\n",
    "        #drugi warunek\n",
    "        counter = Counter(board_slice) \n",
    "        for values in counter.values(): \n",
    "            if values > 1: \n",
    "                return False\n",
    "        for current_queen in range(0, n_queen):\n",
    "            if np.abs(current_queen-n_queen) == np.abs(board_slice[current_queen]-current_checked_column):\n",
    "                return False\n",
    "        return True\n",
    "        \n",
    "        \n",
    "    def generate_succesor(self,state): #queen_row => czyli jakiego hetmana będziemy ustawiać       \n",
    "        queen_row = state.get_queen_counter()\n",
    "        primary_state = state.get_positions()\n",
    "        if self.bf_enabled : #prymitywne podejście\n",
    "            \"\"\"\n",
    "            Zwróć wysztkie tablice z dodanym jednym hetmanem umieszczonym w dowolnym miejscu\n",
    "            \"\"\"\n",
    "            for column_position in range(0, self.size):\n",
    "                self.append_queue(state,queen_row,column_position)\n",
    "                state.default_position(primary_state)\n",
    "        else: # funkcja smart\n",
    "            \"\"\"\n",
    "            zwróc tylko poprawne wektory (bez ataków)\n",
    "            \"\"\"            \n",
    "            for column_position in range(0, self.size):\n",
    "                    if self.inteligent_position(state,column_position):\n",
    "                        self.append_queue(state,queen_row,column_position)\n",
    "                        state.default_position(primary_state)                                             \n",
    "        \n",
    "    def check_final_board_state(self, board_state): # test osiągniecia celu\n",
    "        \"\"\"\n",
    "        test ośiągnięcia celu\n",
    "        \"\"\"\n",
    "        if self.bf_enabled:\n",
    "            if  board_state.get_queen_counter() < self.size: # jeżeli nie umieściliśmy wszystkich hetmanów zwacamy falsz\n",
    "                return False\n",
    "            self.state_check_counter += 1\n",
    "            #drugi warunek \n",
    "            counter = Counter(board_state.get_positions()) \n",
    "            for values in counter.values(): \n",
    "                if values > 1: \n",
    "                    return False\n",
    "            #trzeci warunek\n",
    "            for i,h1 in zip(range(0, self.size), board_state.get_positions()):\n",
    "                for j,h2 in zip(range(0, self.size), board_state.get_positions()):\n",
    "                    if i != j and np.abs(i-j) ==np.abs(h1-h2)  :\n",
    "                        return False\n",
    "            self.correct_counter +=1 \n",
    "            return True\n",
    "        else:\n",
    "            if board_state.get_queen_counter() ==self.size:\n",
    "                self.correct_counter +=1\n",
    "                return True\n",
    "            \n",
    "            return False\n",
    "    \n",
    "    def main_loop(self):\n",
    "        while len(self.q): # dopóki lista stanów do przeszukania nie jest pusta\n",
    "            if self.BFS_strategy: #STRATEGIA BFS\n",
    "                queens_state, n_queens = self.q.popleft() # pobierz z początku listy najstarszy stan\n",
    "            else: #STRATEGIA DFS\n",
    "                queens_state, n_queens = self.q.pop() # pobierz z końca listy ostatnio dodany stan\n",
    "            oldest_state = Chessboard(self.size)\n",
    "            \n",
    "            oldest_state.default_position(queens_state)\n",
    "            oldest_state.set_queens_counter(n_queens)\n",
    "            if self.check_final_board_state(oldest_state): # jeżeli został osiągnięty cel\n",
    "                    print_queens_positions(oldest_state) # wyświetl pierwsze znalezione rozwiązanie\n",
    "                    oldest_state.print_board(self.print_full_board_bool);\n",
    "                    #break\n",
    "            if n_queens != self.size:\n",
    "                self.generate_succesor( oldest_state) # wygeneruj wszystkich potomków aktualnego stanu\n",
    "        return self.generate_counter, self.state_check_counter, self.correct_counter \n",
    "    \n",
    "    "
   ]
  },
  {
   "cell_type": "code",
   "execution_count": 9,
   "metadata": {},
   "outputs": [],
   "source": [
    "def Experiment(n_start=4, n_stop=20, print_full_board =1): #główna pętla eksperymentu\n",
    "    if n_start < 4 : return 1 # nie istnieją rozwiązania   \n",
    "    n_array = np.array(list(range(n_start,n_stop+1)))\n",
    "    strategy_list = [True,False] #true =>BFS | false => DFS\n",
    "    bf_enable_list =[True,False] #true => Brute Force | false =smart\n",
    "    for n in n_array:# pętla po wielkości szachownicy \n",
    "        for strat in strategy_list:\n",
    "            for bf_enabler in bf_enable_list:\n",
    "                timer_start = time()\n",
    "                strategy = Strategy(n,bf_enabler, strat,print_full_board)\n",
    "                strategy.print_opening()\n",
    "                strategy.generate_primary_state()\n",
    "                generate_cnt, state_check_cnt, correct_cnt =strategy.main_loop()\n",
    "                timer_stop = time()\n",
    "                print_stats(n,generate_cnt, state_check_cnt,correct_cnt,timer_stop - timer_start)"
   ]
  },
  {
   "cell_type": "code",
   "execution_count": 10,
   "metadata": {},
   "outputs": [
    {
     "name": "stdout",
     "output_type": "stream",
     "text": [
      "############################################################\n",
      "Breadth First Search(BFS) STRATEGY\n",
      "Brute Force\n",
      " queens positions: [2 4 1 3]\n",
      " queens positions: [3 1 4 2]\n",
      "N_queens: 4\n",
      "Number of correct states: 2\n",
      "Number of generated states: 340\n",
      "Number of checked states: 256\n",
      "Time spent: 0.031282901763916016\n",
      "\n",
      "############################################################\n",
      "Breadth First Search(BFS) STRATEGY\n",
      "Inteligent approach\n",
      " queens positions: [2 4 1 3]\n",
      " queens positions: [3 1 4 2]\n",
      "N_queens: 4\n",
      "Number of correct states: 2\n",
      "Number of generated states: 16\n",
      "Number of checked states: 60\n",
      "Time spent: 0.0\n",
      "\n",
      "############################################################\n",
      "Depth First Search(DFS) STRATEGY\n",
      "Brute Force\n",
      " queens positions: [3 1 4 2]\n",
      " queens positions: [2 4 1 3]\n",
      "N_queens: 4\n",
      "Number of correct states: 2\n",
      "Number of generated states: 340\n",
      "Number of checked states: 256\n",
      "Time spent: 0.02209615707397461\n",
      "\n",
      "############################################################\n",
      "Depth First Search(DFS) STRATEGY\n",
      "Inteligent approach\n",
      " queens positions: [3 1 4 2]\n",
      " queens positions: [2 4 1 3]\n",
      "N_queens: 4\n",
      "Number of correct states: 2\n",
      "Number of generated states: 16\n",
      "Number of checked states: 60\n",
      "Time spent: 0.0\n",
      "\n",
      "############################################################\n",
      "Breadth First Search(BFS) STRATEGY\n",
      "Brute Force\n",
      " queens positions: [1 3 5 2 4]\n",
      " queens positions: [1 4 2 5 3]\n",
      " queens positions: [2 4 1 3 5]\n",
      " queens positions: [2 5 3 1 4]\n",
      " queens positions: [3 1 4 2 5]\n",
      " queens positions: [3 5 2 4 1]\n",
      " queens positions: [4 1 3 5 2]\n",
      " queens positions: [4 2 5 3 1]\n",
      " queens positions: [5 2 4 1 3]\n",
      " queens positions: [5 3 1 4 2]\n",
      "N_queens: 5\n",
      "Number of correct states: 10\n",
      "Number of generated states: 3905\n",
      "Number of checked states: 3125\n",
      "Time spent: 0.07811665534973145\n",
      "\n",
      "############################################################\n",
      "Breadth First Search(BFS) STRATEGY\n",
      "Inteligent approach\n",
      " queens positions: [1 3 5 2 4]\n",
      " queens positions: [1 4 2 5 3]\n",
      " queens positions: [2 4 1 3 5]\n",
      " queens positions: [2 5 3 1 4]\n",
      " queens positions: [3 1 4 2 5]\n",
      " queens positions: [3 5 2 4 1]\n",
      " queens positions: [4 1 3 5 2]\n",
      " queens positions: [4 2 5 3 1]\n",
      " queens positions: [5 2 4 1 3]\n",
      " queens positions: [5 3 1 4 2]\n",
      "N_queens: 5\n",
      "Number of correct states: 10\n",
      "Number of generated states: 53\n",
      "Number of checked states: 220\n",
      "Time spent: 0.0\n",
      "\n",
      "############################################################\n",
      "Depth First Search(DFS) STRATEGY\n",
      "Brute Force\n",
      " queens positions: [5 3 1 4 2]\n",
      " queens positions: [5 2 4 1 3]\n",
      " queens positions: [4 2 5 3 1]\n",
      " queens positions: [4 1 3 5 2]\n",
      " queens positions: [3 5 2 4 1]\n",
      " queens positions: [3 1 4 2 5]\n",
      " queens positions: [2 5 3 1 4]\n",
      " queens positions: [2 4 1 3 5]\n",
      " queens positions: [1 4 2 5 3]\n",
      " queens positions: [1 3 5 2 4]\n",
      "N_queens: 5\n",
      "Number of correct states: 10\n",
      "Number of generated states: 3905\n",
      "Number of checked states: 3125\n",
      "Time spent: 0.06899237632751465\n",
      "\n",
      "############################################################\n",
      "Depth First Search(DFS) STRATEGY\n",
      "Inteligent approach\n",
      " queens positions: [5 3 1 4 2]\n",
      " queens positions: [5 2 4 1 3]\n",
      " queens positions: [4 2 5 3 1]\n",
      " queens positions: [4 1 3 5 2]\n",
      " queens positions: [3 5 2 4 1]\n",
      " queens positions: [3 1 4 2 5]\n",
      " queens positions: [2 5 3 1 4]\n",
      " queens positions: [2 4 1 3 5]\n",
      " queens positions: [1 4 2 5 3]\n",
      " queens positions: [1 3 5 2 4]\n",
      "N_queens: 5\n",
      "Number of correct states: 10\n",
      "Number of generated states: 53\n",
      "Number of checked states: 220\n",
      "Time spent: 0.0\n",
      "\n",
      "############################################################\n",
      "Breadth First Search(BFS) STRATEGY\n",
      "Brute Force\n",
      " queens positions: [2 4 6 1 3 5]\n",
      " queens positions: [3 6 2 5 1 4]\n",
      " queens positions: [4 1 5 2 6 3]\n",
      " queens positions: [5 3 1 6 4 2]\n",
      "N_queens: 6\n",
      "Number of correct states: 4\n",
      "Number of generated states: 55986\n",
      "Number of checked states: 46656\n",
      "Time spent: 0.710005521774292\n",
      "\n",
      "############################################################\n",
      "Breadth First Search(BFS) STRATEGY\n",
      "Inteligent approach\n",
      " queens positions: [2 4 6 1 3 5]\n",
      " queens positions: [3 6 2 5 1 4]\n",
      " queens positions: [4 1 5 2 6 3]\n",
      " queens positions: [5 3 1 6 4 2]\n",
      "N_queens: 6\n",
      "Number of correct states: 4\n",
      "Number of generated states: 152\n",
      "Number of checked states: 894\n",
      "Time spent: 0.008036613464355469\n",
      "\n",
      "############################################################\n",
      "Depth First Search(DFS) STRATEGY\n",
      "Brute Force\n",
      " queens positions: [5 3 1 6 4 2]\n",
      " queens positions: [4 1 5 2 6 3]\n",
      " queens positions: [3 6 2 5 1 4]\n",
      " queens positions: [2 4 6 1 3 5]\n",
      "N_queens: 6\n",
      "Number of correct states: 4\n",
      "Number of generated states: 55986\n",
      "Number of checked states: 46656\n",
      "Time spent: 0.6611742973327637\n",
      "\n",
      "############################################################\n",
      "Depth First Search(DFS) STRATEGY\n",
      "Inteligent approach\n",
      " queens positions: [5 3 1 6 4 2]\n",
      " queens positions: [4 1 5 2 6 3]\n",
      " queens positions: [3 6 2 5 1 4]\n",
      " queens positions: [2 4 6 1 3 5]\n",
      "N_queens: 6\n",
      "Number of correct states: 4\n",
      "Number of generated states: 152\n",
      "Number of checked states: 894\n",
      "Time spent: 0.008027315139770508\n",
      "\n",
      "############################################################\n",
      "Breadth First Search(BFS) STRATEGY\n",
      "Brute Force\n"
     ]
    },
    {
     "ename": "KeyboardInterrupt",
     "evalue": "",
     "output_type": "error",
     "traceback": [
      "\u001b[1;31m---------------------------------------------------------------------------\u001b[0m",
      "\u001b[1;31mKeyboardInterrupt\u001b[0m                         Traceback (most recent call last)",
      "\u001b[1;32m<ipython-input-10-5d6ec3e658e3>\u001b[0m in \u001b[0;36m<module>\u001b[1;34m\u001b[0m\n\u001b[1;32m----> 1\u001b[1;33m \u001b[1;32mif\u001b[0m \u001b[0mExperiment\u001b[0m\u001b[1;33m(\u001b[0m\u001b[1;36m4\u001b[0m\u001b[1;33m,\u001b[0m\u001b[1;36m20\u001b[0m\u001b[1;33m,\u001b[0m\u001b[0mprint_full_board\u001b[0m \u001b[1;33m=\u001b[0m\u001b[1;32mFalse\u001b[0m\u001b[1;33m)\u001b[0m\u001b[1;33m:\u001b[0m\u001b[1;33m\u001b[0m\u001b[1;33m\u001b[0m\u001b[0m\n\u001b[0m\u001b[0;32m      2\u001b[0m     \u001b[0mprint\u001b[0m\u001b[1;33m(\u001b[0m\u001b[1;34m\"error n_start must be >= 4\"\u001b[0m\u001b[1;33m)\u001b[0m\u001b[1;33m\u001b[0m\u001b[1;33m\u001b[0m\u001b[0m\n",
      "\u001b[1;32m<ipython-input-9-5f04fa847228>\u001b[0m in \u001b[0;36mExperiment\u001b[1;34m(n_start, n_stop, print_full_board)\u001b[0m\n\u001b[0;32m     12\u001b[0m                 \u001b[0mstrategy\u001b[0m\u001b[1;33m.\u001b[0m\u001b[0mprint_opening\u001b[0m\u001b[1;33m(\u001b[0m\u001b[1;33m)\u001b[0m\u001b[1;33m\u001b[0m\u001b[1;33m\u001b[0m\u001b[0m\n\u001b[0;32m     13\u001b[0m                 \u001b[0mstrategy\u001b[0m\u001b[1;33m.\u001b[0m\u001b[0mgenerate_primary_state\u001b[0m\u001b[1;33m(\u001b[0m\u001b[1;33m)\u001b[0m\u001b[1;33m\u001b[0m\u001b[1;33m\u001b[0m\u001b[0m\n\u001b[1;32m---> 14\u001b[1;33m                 \u001b[0mgenerate_cnt\u001b[0m\u001b[1;33m,\u001b[0m \u001b[0mstate_check_cnt\u001b[0m\u001b[1;33m,\u001b[0m \u001b[0mcorrect_cnt\u001b[0m \u001b[1;33m=\u001b[0m\u001b[0mstrategy\u001b[0m\u001b[1;33m.\u001b[0m\u001b[0mmain_loop\u001b[0m\u001b[1;33m(\u001b[0m\u001b[1;33m)\u001b[0m\u001b[1;33m\u001b[0m\u001b[1;33m\u001b[0m\u001b[0m\n\u001b[0m\u001b[0;32m     15\u001b[0m                 \u001b[0mtimer_stop\u001b[0m \u001b[1;33m=\u001b[0m \u001b[0mtime\u001b[0m\u001b[1;33m(\u001b[0m\u001b[1;33m)\u001b[0m\u001b[1;33m\u001b[0m\u001b[1;33m\u001b[0m\u001b[0m\n\u001b[0;32m     16\u001b[0m                 \u001b[0mprint_stats\u001b[0m\u001b[1;33m(\u001b[0m\u001b[0mn\u001b[0m\u001b[1;33m,\u001b[0m\u001b[0mgenerate_cnt\u001b[0m\u001b[1;33m,\u001b[0m \u001b[0mstate_check_cnt\u001b[0m\u001b[1;33m,\u001b[0m\u001b[0mcorrect_cnt\u001b[0m\u001b[1;33m,\u001b[0m\u001b[0mtimer_stop\u001b[0m \u001b[1;33m-\u001b[0m \u001b[0mtimer_start\u001b[0m\u001b[1;33m)\u001b[0m\u001b[1;33m\u001b[0m\u001b[1;33m\u001b[0m\u001b[0m\n",
      "\u001b[1;32m<ipython-input-5-a43bfdf9561e>\u001b[0m in \u001b[0;36mmain_loop\u001b[1;34m(self)\u001b[0m\n\u001b[0;32m    115\u001b[0m                     \u001b[1;31m#break\u001b[0m\u001b[1;33m\u001b[0m\u001b[1;33m\u001b[0m\u001b[1;33m\u001b[0m\u001b[0m\n\u001b[0;32m    116\u001b[0m             \u001b[1;32mif\u001b[0m \u001b[0mn_queens\u001b[0m \u001b[1;33m!=\u001b[0m \u001b[0mself\u001b[0m\u001b[1;33m.\u001b[0m\u001b[0msize\u001b[0m\u001b[1;33m:\u001b[0m\u001b[1;33m\u001b[0m\u001b[1;33m\u001b[0m\u001b[0m\n\u001b[1;32m--> 117\u001b[1;33m                 \u001b[0mself\u001b[0m\u001b[1;33m.\u001b[0m\u001b[0mgenerate_succesor\u001b[0m\u001b[1;33m(\u001b[0m \u001b[0moldest_state\u001b[0m\u001b[1;33m)\u001b[0m \u001b[1;31m# wygeneruj wszystkich potomków aktualnego stanu\u001b[0m\u001b[1;33m\u001b[0m\u001b[1;33m\u001b[0m\u001b[0m\n\u001b[0m\u001b[0;32m    118\u001b[0m         \u001b[1;32mreturn\u001b[0m \u001b[0mself\u001b[0m\u001b[1;33m.\u001b[0m\u001b[0mgenerate_counter\u001b[0m\u001b[1;33m,\u001b[0m \u001b[0mself\u001b[0m\u001b[1;33m.\u001b[0m\u001b[0mstate_check_counter\u001b[0m\u001b[1;33m,\u001b[0m \u001b[0mself\u001b[0m\u001b[1;33m.\u001b[0m\u001b[0mcorrect_counter\u001b[0m\u001b[1;33m\u001b[0m\u001b[1;33m\u001b[0m\u001b[0m\n\u001b[0;32m    119\u001b[0m \u001b[1;33m\u001b[0m\u001b[0m\n",
      "\u001b[1;32m<ipython-input-5-a43bfdf9561e>\u001b[0m in \u001b[0;36mgenerate_succesor\u001b[1;34m(self, state)\u001b[0m\n\u001b[0;32m     58\u001b[0m \u001b[1;33m\u001b[0m\u001b[0m\n\u001b[0;32m     59\u001b[0m             \u001b[1;32mfor\u001b[0m \u001b[0mcolumn_position\u001b[0m \u001b[1;32min\u001b[0m \u001b[0mrange\u001b[0m\u001b[1;33m(\u001b[0m\u001b[1;36m0\u001b[0m\u001b[1;33m,\u001b[0m \u001b[0mself\u001b[0m\u001b[1;33m.\u001b[0m\u001b[0msize\u001b[0m\u001b[1;33m)\u001b[0m\u001b[1;33m:\u001b[0m\u001b[1;33m\u001b[0m\u001b[1;33m\u001b[0m\u001b[0m\n\u001b[1;32m---> 60\u001b[1;33m                 \u001b[0mself\u001b[0m\u001b[1;33m.\u001b[0m\u001b[0mappend_queue\u001b[0m\u001b[1;33m(\u001b[0m\u001b[0mstate\u001b[0m\u001b[1;33m,\u001b[0m\u001b[0mqueen_row\u001b[0m\u001b[1;33m,\u001b[0m\u001b[0mcolumn_position\u001b[0m\u001b[1;33m)\u001b[0m\u001b[1;33m\u001b[0m\u001b[1;33m\u001b[0m\u001b[0m\n\u001b[0m\u001b[0;32m     61\u001b[0m                 \u001b[0mstate\u001b[0m\u001b[1;33m.\u001b[0m\u001b[0mdefault_position\u001b[0m\u001b[1;33m(\u001b[0m\u001b[0mprimary_state\u001b[0m\u001b[1;33m)\u001b[0m\u001b[1;33m\u001b[0m\u001b[1;33m\u001b[0m\u001b[0m\n\u001b[0;32m     62\u001b[0m         \u001b[1;32melse\u001b[0m\u001b[1;33m:\u001b[0m \u001b[1;31m# funkcja smart\u001b[0m\u001b[1;33m\u001b[0m\u001b[1;33m\u001b[0m\u001b[0m\n",
      "\u001b[1;32m<ipython-input-5-a43bfdf9561e>\u001b[0m in \u001b[0;36mappend_queue\u001b[1;34m(self, state, queen_row, column_position)\u001b[0m\n\u001b[0;32m     26\u001b[0m     \u001b[1;32mdef\u001b[0m \u001b[0mappend_queue\u001b[0m\u001b[1;33m(\u001b[0m\u001b[0mself\u001b[0m\u001b[1;33m,\u001b[0m \u001b[0mstate\u001b[0m\u001b[1;33m,\u001b[0m \u001b[0mqueen_row\u001b[0m\u001b[1;33m,\u001b[0m\u001b[0mcolumn_position\u001b[0m\u001b[1;33m)\u001b[0m\u001b[1;33m:\u001b[0m\u001b[1;33m\u001b[0m\u001b[1;33m\u001b[0m\u001b[0m\n\u001b[0;32m     27\u001b[0m         \u001b[0mstate\u001b[0m\u001b[1;33m.\u001b[0m\u001b[0mposition\u001b[0m\u001b[1;33m(\u001b[0m\u001b[0mqueen_row\u001b[0m\u001b[1;33m,\u001b[0m \u001b[0mcolumn_position\u001b[0m\u001b[1;33m)\u001b[0m\u001b[1;33m\u001b[0m\u001b[1;33m\u001b[0m\u001b[0m\n\u001b[1;32m---> 28\u001b[1;33m         \u001b[0mself\u001b[0m\u001b[1;33m.\u001b[0m\u001b[0mq\u001b[0m\u001b[1;33m.\u001b[0m\u001b[0mappend\u001b[0m\u001b[1;33m(\u001b[0m\u001b[1;33m(\u001b[0m\u001b[0mdcopy\u001b[0m\u001b[1;33m(\u001b[0m\u001b[0mstate\u001b[0m\u001b[1;33m.\u001b[0m\u001b[0mget_positions\u001b[0m\u001b[1;33m(\u001b[0m\u001b[1;33m)\u001b[0m\u001b[1;33m)\u001b[0m\u001b[1;33m,\u001b[0m \u001b[0mqueen_row\u001b[0m\u001b[1;33m+\u001b[0m\u001b[1;36m1\u001b[0m\u001b[1;33m)\u001b[0m\u001b[1;33m)\u001b[0m\u001b[1;33m\u001b[0m\u001b[1;33m\u001b[0m\u001b[0m\n\u001b[0m\u001b[0;32m     29\u001b[0m         \u001b[0mself\u001b[0m\u001b[1;33m.\u001b[0m\u001b[0mgenerate_counter\u001b[0m \u001b[1;33m+=\u001b[0m\u001b[1;36m1\u001b[0m\u001b[1;33m\u001b[0m\u001b[1;33m\u001b[0m\u001b[0m\n\u001b[0;32m     30\u001b[0m     \u001b[1;32mdef\u001b[0m \u001b[0mgenerate_primary_state\u001b[0m\u001b[1;33m(\u001b[0m\u001b[0mself\u001b[0m\u001b[1;33m)\u001b[0m\u001b[1;33m:\u001b[0m\u001b[1;33m\u001b[0m\u001b[1;33m\u001b[0m\u001b[0m\n",
      "\u001b[1;32mC:\\Program Files\\WindowsApps\\PythonSoftwareFoundation.Python.3.8_3.8.1776.0_x64__qbz5n2kfra8p0\\lib\\copy.py\u001b[0m in \u001b[0;36mdeepcopy\u001b[1;34m(x, memo, _nil)\u001b[0m\n\u001b[0;32m    151\u001b[0m             \u001b[0mcopier\u001b[0m \u001b[1;33m=\u001b[0m \u001b[0mgetattr\u001b[0m\u001b[1;33m(\u001b[0m\u001b[0mx\u001b[0m\u001b[1;33m,\u001b[0m \u001b[1;34m\"__deepcopy__\"\u001b[0m\u001b[1;33m,\u001b[0m \u001b[1;32mNone\u001b[0m\u001b[1;33m)\u001b[0m\u001b[1;33m\u001b[0m\u001b[1;33m\u001b[0m\u001b[0m\n\u001b[0;32m    152\u001b[0m             \u001b[1;32mif\u001b[0m \u001b[0mcopier\u001b[0m \u001b[1;32mis\u001b[0m \u001b[1;32mnot\u001b[0m \u001b[1;32mNone\u001b[0m\u001b[1;33m:\u001b[0m\u001b[1;33m\u001b[0m\u001b[1;33m\u001b[0m\u001b[0m\n\u001b[1;32m--> 153\u001b[1;33m                 \u001b[0my\u001b[0m \u001b[1;33m=\u001b[0m \u001b[0mcopier\u001b[0m\u001b[1;33m(\u001b[0m\u001b[0mmemo\u001b[0m\u001b[1;33m)\u001b[0m\u001b[1;33m\u001b[0m\u001b[1;33m\u001b[0m\u001b[0m\n\u001b[0m\u001b[0;32m    154\u001b[0m             \u001b[1;32melse\u001b[0m\u001b[1;33m:\u001b[0m\u001b[1;33m\u001b[0m\u001b[1;33m\u001b[0m\u001b[0m\n\u001b[0;32m    155\u001b[0m                 \u001b[0mreductor\u001b[0m \u001b[1;33m=\u001b[0m \u001b[0mdispatch_table\u001b[0m\u001b[1;33m.\u001b[0m\u001b[0mget\u001b[0m\u001b[1;33m(\u001b[0m\u001b[0mcls\u001b[0m\u001b[1;33m)\u001b[0m\u001b[1;33m\u001b[0m\u001b[1;33m\u001b[0m\u001b[0m\n",
      "\u001b[1;31mKeyboardInterrupt\u001b[0m: "
     ]
    }
   ],
   "source": [
    "if Experiment(4,20,print_full_board =False):\n",
    "    print(\"error n_start must be >= 4\")"
   ]
  },
  {
   "cell_type": "code",
   "execution_count": null,
   "metadata": {},
   "outputs": [],
   "source": [
    "def Experiment2(n_start=4, n_stop=20, print_full_board =1): #główna pętla eksperymentu\n",
    "    if n_start <4:\n",
    "        return 1# nie istnieją rozwiązania\n",
    "    n_array = np.array(list(range(n_start,n_stop+1)))\n",
    "    for n in n_array:# pętla po wielkości szachownicy \n",
    "        timer_start = time()\n",
    "        strategy = Strategy(n,False, True,print_full_board)\n",
    "        strategy.print_opening()\n",
    "        strategy.generate_primary_state()\n",
    "        generate_cnt, state_check_cnt, correct_cnt =strategy.main_loop()\n",
    "        timer_stop = time()\n",
    "        print_stats(n,generate_cnt, state_check_cnt,correct_cnt,timer_stop - timer_start)\n"
   ]
  },
  {
   "cell_type": "code",
   "execution_count": null,
   "metadata": {},
   "outputs": [],
   "source": [
    "Experiment2(4,20,print_full_board =False)"
   ]
  },
  {
   "cell_type": "code",
   "execution_count": 111,
   "metadata": {},
   "outputs": [
    {
     "data": {
      "text/plain": [
       "2.0"
      ]
     },
     "execution_count": 111,
     "metadata": {},
     "output_type": "execute_result"
    }
   ],
   "source": [
    "4/2"
   ]
  },
  {
   "cell_type": "code",
   "execution_count": 112,
   "metadata": {},
   "outputs": [
    {
     "data": {
      "text/plain": [
       "2.5"
      ]
     },
     "execution_count": 112,
     "metadata": {},
     "output_type": "execute_result"
    }
   ],
   "source": [
    "5/2"
   ]
  },
  {
   "cell_type": "code",
   "execution_count": null,
   "metadata": {},
   "outputs": [],
   "source": []
  }
 ],
 "metadata": {
  "kernelspec": {
   "display_name": "Python 3",
   "language": "python",
   "name": "python3"
  },
  "language_info": {
   "codemirror_mode": {
    "name": "ipython",
    "version": 3
   },
   "file_extension": ".py",
   "mimetype": "text/x-python",
   "name": "python",
   "nbconvert_exporter": "python",
   "pygments_lexer": "ipython3",
   "version": "3.8.6"
  }
 },
 "nbformat": 4,
 "nbformat_minor": 4
}
