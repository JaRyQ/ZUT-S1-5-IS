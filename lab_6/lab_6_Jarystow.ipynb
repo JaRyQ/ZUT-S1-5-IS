{
 "cells": [
  {
   "cell_type": "code",
   "execution_count": 1,
   "metadata": {},
   "outputs": [],
   "source": [
    "import numpy as np\n",
    "import matplotlib.pyplot as plt\n",
    "from sklearn.datasets import make_blobs"
   ]
  },
  {
   "cell_type": "code",
   "execution_count": 9,
   "metadata": {},
   "outputs": [
    {
     "data": {
      "text/plain": [
       "<matplotlib.collections.PathCollection at 0x1d010767280>"
      ]
     },
     "execution_count": 9,
     "metadata": {},
     "output_type": "execute_result"
    },
    {
     "data": {
      "image/png": "[encoded data removed]",
      "text/plain": [
       "<Figure size 432x288 with 1 Axes>"
      ]
     },
     "metadata": {
      "needs_background": "light"
     },
     "output_type": "display_data"
    }
   ],
   "source": [
    "%matplotlib inline\n",
    "nFeatures =2\n",
    "nSamples =10\n",
    "X, y = make_blobs(n_samples=nSamples, centers=2,n_features =nFeatures, random_state=3)\n",
    "plt.scatter(X[:, 0], X[:, 1], c=y, s=30, cmap=plt.cm.Paired)"
   ]
  },
  {
   "cell_type": "code",
   "execution_count": 10,
   "metadata": {},
   "outputs": [],
   "source": [
    "class Perceptron():\n",
    "    \n",
    "    def __init__(self,ETA=0):\n",
    "        self.ETA = ETA    \n",
    "        \n",
    "    def __setVector(self):\n",
    "        self.__vector = np.zeros(self.n_features)\n",
    "        \n",
    "    def __setError(self): # wypełnienie wektora błędnie sklasyfikowanych punktów\n",
    "        self.__setValues()\n",
    "        self.__error =[]\n",
    "        for index,value  in enumerate(self.__yPredicted):\n",
    "            if self.y[index] != value:\n",
    "                self.__error.append(index)#  zwraca indeksy\n",
    "        print(\"calc error\", self.__error)\n",
    "        #self.__error = [i for i, j in zip(self.y, self.__yPredicted) if   i == j]\n",
    "    \n",
    "    def __calculateNewVector(self,indexSample):\n",
    "        #self.__vector = self.__vector + self.ETA * (self.y[indexSample]*self.X[indexSample]) \n",
    "        temp = np.multiply(self.y[indexSample],self.X[indexSample])\n",
    "        #print(temp)\n",
    "        self.__vector = self.__vector + self.ETA * temp\n",
    "        \n",
    "    def __setLabel(self):#funkcja ustalająca etykiety y\n",
    "        self.__yPredicted = np.zeros(self.size)\n",
    "        self.__yPredicted[self.__s > 0] =1\n",
    "        print(\"calc pred\", self.__yPredicted)\n",
    "        \n",
    "    def __setValues(self): # wyliczona wartość którą będziemy podawać do funkcji decyzyjnej\n",
    "        self.__s = []\n",
    "        for x_row in  self.X:\n",
    "            #print(x_row)\n",
    "            self.__s.append(np.sum( self.__vector*x_row , axis =0))\n",
    "            #print(self.__s)\n",
    "        #self.__s = np.sum( np.multiply(self.__vector, self.X) , axis =0)\n",
    "        self.__s = np.array(self.__s)\n",
    "        self.__setLabel()\n",
    "        \n",
    "    def __getRandomErrorLabel(self):\n",
    "        return np.random.choice(self.__error)\n",
    " \n",
    "    def algorithm(self):\n",
    "        self.__setVector() # ustawiamy wektor wag (początkowo zerowe wartości)\n",
    "        self.k =0  #liczba wykonanych kroków aktualizacyjnych\n",
    "        self.__setError()\n",
    "        while len(self.__error) != 0 : # dopóki ziór błędnie sklasyfikowanych przykładów posiada indeksy\n",
    "            indexSample = self.__getRandomErrorLabel() # wylosuj ze zbioru error przykład uczący [index]\n",
    "            self.__calculateNewVector(indexSample) # popraw wagi \n",
    "            self.k +=1\n",
    "            self.__setError()\n",
    "            #print(self.__error)\n",
    "        return self.__vector,self.k # zwróć otrzymany wektor wag i liczbę wykonanych kroków    \n",
    "            \n",
    "    def __addOnes(self,X):\n",
    "        return np.hstack(( np.ones((X.shape[0],1),dtype=X.dtype),X))\n",
    "            \n",
    "    def fit(self,X,y):\n",
    "        self.y =y\n",
    "        self.X  = self.__addOnes(X)\n",
    "        self.size = np.shape(self.X)[0]\n",
    "        self.n_features = np.shape(self.X)[1]\n",
    "        \n",
    "        \n",
    "    "
   ]
  },
  {
   "cell_type": "code",
   "execution_count": 11,
   "metadata": {},
   "outputs": [
    {
     "name": "stdout",
     "output_type": "stream",
     "text": [
      "[1 0 0 0 1 1 0 1 0 1]\n"
     ]
    }
   ],
   "source": [
    "print(y)"
   ]
  },
  {
   "cell_type": "code",
   "execution_count": 24,
   "metadata": {},
   "outputs": [
    {
     "name": "stdout",
     "output_type": "stream",
     "text": [
      "calc pred [0. 0. 0. 0. 0. 0. 0. 0. 0. 0.]\n",
      "calc error [0, 4, 5, 7, 9]\n",
      "calc pred [1. 0. 0. 0. 1. 1. 0. 1. 0. 1.]\n",
      "calc error []\n"
     ]
    }
   ],
   "source": [
    "ETA =1 #współczynnik uczenia\n",
    "\n",
    "rosenblat = Perceptron(ETA)\n",
    "rosenblat.fit(X,y)\n",
    "polynomials , k =rosenblat.algorithm() #zmienic na coef"
   ]
  },
  {
   "cell_type": "code",
   "execution_count": 31,
   "metadata": {},
   "outputs": [
    {
     "data": {
      "text/plain": [
       "[<matplotlib.lines.Line2D at 0x1d011c41a90>]"
      ]
     },
     "execution_count": 31,
     "metadata": {},
     "output_type": "execute_result"
    },
    {
     "data": {
      "image/png": "[encoded data removed]",
      "text/plain": [
       "<Figure size 432x288 with 1 Axes>"
      ]
     },
     "metadata": {
      "needs_background": "light"
     },
     "output_type": "display_data"
    }
   ],
   "source": [
    "minX = np.min(X[:, 0])\n",
    "maxX = np.max(X[:, 0])\n",
    "xpoly = np.linspace(minX,maxX,100)\n",
    "\n",
    "ypoly = polynomials[1] *xpoly + polynomials[2]\n",
    "plt.scatter(X[:, 0], X[:, 1], c=y, s=30, cmap=plt.cm.Paired)\n",
    "plt.plot(xpoly,ypoly)"
   ]
  },
  {
   "cell_type": "code",
   "execution_count": null,
   "metadata": {},
   "outputs": [],
   "source": []
  }
 ],
 "metadata": {
  "kernelspec": {
   "display_name": "Python 3",
   "language": "python",
   "name": "python3"
  },
  "language_info": {
   "codemirror_mode": {
    "name": "ipython",
    "version": 3
   },
   "file_extension": ".py",
   "mimetype": "text/x-python",
   "name": "python",
   "nbconvert_exporter": "python",
   "pygments_lexer": "ipython3",
   "version": "3.8.6"
  }
 },
 "nbformat": 4,
 "nbformat_minor": 4
}
